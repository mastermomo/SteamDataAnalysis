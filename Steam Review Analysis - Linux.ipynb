{
 "cells": [
  {
   "cell_type": "code",
   "execution_count": null,
   "id": "87f86554-fa12-4c99-80d5-60c6ce9f8d8d",
   "metadata": {},
   "outputs": [],
   "source": [
    "import pandas as pd"
   ]
  },
  {
   "cell_type": "code",
   "execution_count": null,
   "id": "91d865d3-ba90-4576-88c6-b3799a0f5fa5",
   "metadata": {},
   "outputs": [],
   "source": [
    "# Take in the games.csv file path.\n",
    "games_data = r\"C:\\Users\\eleme\\Desktop\\Jupyter Projects\\Game Recommendations on Steam\\OG Files\\games.csv\" #input(\"Provide the path to the games.csv file: \")\n",
    "games_df = pd.read_csv(games_data, dtype={'linux':str})\n",
    "#print(games_df)"
   ]
  },
  {
   "cell_type": "code",
   "execution_count": null,
   "id": "09a2a388-7373-4361-b10b-a9bd6f856b99",
   "metadata": {},
   "outputs": [],
   "source": [
    "# Filter the games.csv file down to games playeble on linux\n",
    "linux_games_df = games_df[(games_df['linux']=='true') & (games_df['user_reviews']>2000)]\n",
    "#print(linux_games_df)"
   ]
  },
  {
   "cell_type": "code",
   "execution_count": null,
   "id": "e69829df-80a5-48f3-b173-22ccc0644c2c",
   "metadata": {},
   "outputs": [],
   "source": [
    "# Export to an excel file\n",
    "export_path = r\"C:\\Users\\eleme\\Desktop\\Jupyter Projects\\Game Recommendations on Steam\\OG Files\\Linux Games Analysis.xlsx\"\n",
    "linux_games_df.to_excel(export_path)"
   ]
  }
 ],
 "metadata": {
  "kernelspec": {
   "display_name": "Python 3 (ipykernel)",
   "language": "python",
   "name": "python3"
  },
  "language_info": {
   "codemirror_mode": {
    "name": "ipython",
    "version": 3
   },
   "file_extension": ".py",
   "mimetype": "text/x-python",
   "name": "python",
   "nbconvert_exporter": "python",
   "pygments_lexer": "ipython3",
   "version": "3.12.0"
  }
 },
 "nbformat": 4,
 "nbformat_minor": 5
}
